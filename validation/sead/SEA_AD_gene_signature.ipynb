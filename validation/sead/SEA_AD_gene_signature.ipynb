{
 "cells": [
  {
   "cell_type": "markdown",
   "id": "be09de9c-5742-451d-844b-cd022ca1cb2c",
   "metadata": {
    "pycharm": {
     "name": "#%% md\n"
    }
   },
   "source": [
    "### Load needed libraries"
   ]
  },
  {
   "cell_type": "code",
   "execution_count": null,
   "id": "66695d8c-c63b-425c-a357-e842438b2581",
   "metadata": {
    "pycharm": {
     "name": "#%%\n"
    }
   },
   "outputs": [],
   "source": [
    "import os\n",
    "import shutil\n",
    "import scanpy as sc\n",
    "import pandas as pd\n",
    "import numpy as np\n",
    "import re\n",
    "import seaborn as sns\n",
    "import matplotlib\n",
    "import copy\n",
    "from matplotlib import pyplot as plt\n",
    "from matplotlib import cm as cm\n",
    "%matplotlib inline\n",
    "from scipy import stats as sp_stats\n",
    "import warnings\n",
    "from datetime import datetime\n",
    "from helper_functions import *\n",
    "\n",
    "warnings.filterwarnings(\"ignore\")\n",
    "sc.settings.n_jobs = 32\n",
    "sc.set_figure_params(scanpy=True, dpi=100, dpi_save=500, frameon=False, vector_friendly=True, figsize=(10,10), format='png')\n",
    "matplotlib.rcParams['pdf.fonttype'] = 42\n",
    "matplotlib.rcParams[\"axes.grid\"] = False\n"
   ]
  },
  {
   "cell_type": "markdown",
   "id": "b6225511-46fc-487b-a0bf-9d3ea7575759",
   "metadata": {
    "pycharm": {
     "name": "#%% md\n"
    }
   },
   "source": [
    "### Load the needed data files"
   ]
  },
  {
   "cell_type": "code",
   "execution_count": null,
   "id": "528deb13-07ee-4ed5-a16a-b34c5d739fd0",
   "metadata": {
    "pycharm": {
     "name": "#%%\n"
    }
   },
   "outputs": [],
   "source": [
    "SEAD_DIR = \"/ems/elsc-labs/habib-n/Shared/SeaAD\""
   ]
  },
  {
   "cell_type": "code",
   "execution_count": null,
   "id": "f5ef8a45-65f0-495e-90fa-fe9d8d652cc1",
   "metadata": {
    "pycharm": {
     "name": "#%%\n"
    }
   },
   "outputs": [],
   "source": [
    "# From https://sea-ad-single-cell-profiling.s3.amazonaws.com/index.html#MTG/RNAseq/\n",
    "\n",
    "adata = sc.read_h5ad(os.path.join(SEAD_DIR, \"sc_data_files/sea_ad_single_cell_profiling/MTG/RNAseq/SEAAD_MTG_RNAseq_final-nuclei.2024-02-13.h5ad\"))\n",
    "\n",
    "sub = adata[adata.obs[\"Neurotypical reference\"] == \"False\", :]\n",
    "sub.write_h5ad(\"./SEAAD_MTG_RNAseq_final-nuclei-without-reference.2024-02-13.h5ad\", compression=\"gzip\")"
   ]
  },
  {
   "cell_type": "code",
   "execution_count": null,
   "id": "ed3be046-d3d0-42e8-a20c-2792dbb77588",
   "metadata": {
    "pycharm": {
     "name": "#%%\n"
    }
   },
   "outputs": [],
   "source": [
    "adata = sc.read_h5ad(\"SEAAD_MTG_RNAseq_final-nuclei-without-reference.2024-02-13.h5ad\")"
   ]
  },
  {
   "cell_type": "markdown",
   "id": "a5ece79e-7450-4a56-9b26-cd7890a83448",
   "metadata": {
    "pycharm": {
     "name": "#%% md\n"
    }
   },
   "source": [
    "# Extended Data Figure 8c - Cell cycle and stress correlation"
   ]
  },
  {
   "cell_type": "code",
   "execution_count": null,
   "id": "ad70bc9f-55d9-4d75-b52c-81e45236b585",
   "metadata": {
    "pycharm": {
     "name": "#%%\n"
    }
   },
   "outputs": [],
   "source": [
    "M_Phase_genes = \"CLASP2/CENPC/SEM1/TPR/STAG2/NSL1/AHCTF1/ANAPC16/SMC3/ITGB3BP/BLZF1/CEP290/OFD1/CEP70/ANAPC4/CEP63/AKAP9/LEMD3/NUP205/PCM1/WAPL/CCP110/DYNC1I2/PSMD14/RANBP2/CEP57\".split(\"/\")\n",
    "neuron_apoptotic_process_genes = \"NEFL/MT3/APOE/GAPDH/NSMF/PTK2B/SNCB/UBE2M/PIN1/GRIN1/AGAP2/TYRO3/FIS1/NUPR1/BNIP3/HSP90AB1/FAIM2/ATN1/HIPK2/SOD2/PRNP\".split(\"/\")\n",
    "response_to_oxidative_stress = \"MT3/CST3/APOE/PRDX5/EEF2/HSPB1/PTK2B/PON2/GPX4/RPS3/AGAP3/MAPK3/GPR37L1/IPCEF1/PRDX1/TXNIP/APOD/CRYAB/CAMKK2/BNIP3/GPX3/NME2/RHOB/HBB/SELENOP/HBA2/PRDX2/HBA1/PPP2CB/SOD2/BAD\".split(\"/\")\n",
    "cellular_response_to_heat_stress_genes = \"HSPA4/HSPA12A/HSPH1/RANBP2/TPR/HSPA4L\".split(\"/\")"
   ]
  },
  {
   "cell_type": "code",
   "execution_count": null,
   "id": "40f8beb0-1975-4a45-89e1-9a6f2227581a",
   "metadata": {
    "pycharm": {
     "name": "#%%\n"
    }
   },
   "outputs": [],
   "source": [
    "neuronal_adata = adata[adata.obs['Class'].isin(['Neuronal: Glutamatergic', 'Neuronal: GABAergic'])]\n"
   ]
  },
  {
   "cell_type": "code",
   "execution_count": null,
   "id": "f7d5610f-7b7d-4693-9d5d-d59c0b026ae2",
   "metadata": {
    "pycharm": {
     "name": "#%%\n"
    }
   },
   "outputs": [],
   "source": [
    "neuronal_adata.write_h5ad(\"./SEAAD_MTG_RNAseq_final-nuclei-without-reference-neuronal.2024-02-13.h5ad\", compression=\"gzip\")"
   ]
  },
  {
   "cell_type": "code",
   "execution_count": null,
   "id": "f43d4cd3-3a6f-4fb5-bbe4-2ac8e9cc6693",
   "metadata": {
    "pycharm": {
     "name": "#%%\n"
    }
   },
   "outputs": [],
   "source": [
    "neuronal_adata = sc.read_h5ad(\"./SEAAD_MTG_RNAseq_final-nuclei-without-reference-neuronal.2024-02-13.h5ad\")"
   ]
  },
  {
   "cell_type": "code",
   "execution_count": null,
   "id": "9bc71442-4aa3-4fe2-ba01-29f7d51f7b73",
   "metadata": {
    "pycharm": {
     "name": "#%%\n"
    }
   },
   "outputs": [],
   "source": [
    "sc.tl.score_genes(neuronal_adata, gene_list=M_Phase_genes, score_name=\"m_phase_score\")\n",
    "sc.tl.score_genes(neuronal_adata, gene_list=neuron_apoptotic_process_genes, score_name=\"neuron_apoptotic_process_score\")\n",
    "sc.tl.score_genes(neuronal_adata, gene_list=response_to_oxidative_stress, score_name=\"response_to_oxidative_score\")\n",
    "sc.tl.score_genes(neuronal_adata, gene_list=cellular_response_to_heat_stress_genes, score_name=\"cellular_response_to_heat_stress_score\")"
   ]
  },
  {
   "cell_type": "code",
   "execution_count": null,
   "id": "2d03d3b8-d803-41f1-a839-b290e996cdd4",
   "metadata": {
    "pycharm": {
     "name": "#%%\n"
    }
   },
   "outputs": [],
   "source": [
    "neuronal_adata.obs[scores_names].to_csv(\"seaad_neuronal_gene_scores.csv\")"
   ]
  }
 ],
 "metadata": {
  "language_info": {
   "name": "python"
  }
 },
 "nbformat": 4,
 "nbformat_minor": 5
}